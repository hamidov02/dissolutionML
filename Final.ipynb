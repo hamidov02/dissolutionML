{
 "cells": [
  {
   "cell_type": "code",
   "execution_count": 32,
   "id": "plain-marketing",
   "metadata": {},
   "outputs": [],
   "source": [
    "# useful libraries\n",
    "\n",
    "import math\n",
    "import pandas as pd \n",
    "import numpy as np \n",
    "import seaborn as sns\n",
    "from numpy import loadtxt \n",
    "from sklearn.preprocessing import StandardScaler  \n",
    "from sklearn.model_selection import train_test_split \n",
    "from sklearn.decomposition import PCA \n",
    "from sklearn import metrics\n",
    "from sklearn.ensemble import RandomForestRegressor\n",
    "\n",
    "from sklearn.tree import DecisionTreeRegressor\n",
    "from sklearn.multioutput import MultiOutputRegressor\n",
    "from sklearn.ensemble import GradientBoostingRegressor\n",
    "\n",
    "# for visualizing data inline jupyter notebook\n",
    "\n",
    "#These algorithms must be used\n",
    "from sklearn.neural_network import MLPRegressor #neural network library from sklearn\n",
    "from sklearn.ensemble import RandomForestRegressor # RandomForest Regressor\n",
    "from sklearn.cluster import KMeans #Kmeans library \n",
    "\n",
    "#further libraries could be added when needed\n",
    "from sklearn.ensemble import GradientBoostingRegressor #Gradient boosting regressor\n",
    "#Find something else\n",
    "\n",
    "import matplotlib.pyplot as plt\n",
    "%matplotlib inline"
   ]
  },
  {
   "cell_type": "code",
   "execution_count": 33,
   "id": "placed-riding",
   "metadata": {},
   "outputs": [],
   "source": [
    "# Read training data\n",
    "diss_profiles = np.loadtxt(r'Data/TrainingData/DISS.csv', delimiter=',', dtype='float64') # Read dissolution profile\n",
    "comp = np.loadtxt(r'Data/TrainingData/COMP.csv', delimiter=',', dtype='float64') # Read compression force\n",
    "comp_max = np.loadtxt(r'Data/TrainingData/COMPMax.csv', delimiter=',', dtype='float64') # Read compression force\n",
    "raman_re = np.loadtxt(r'Data/TrainingData/RAMANRE.csv', delimiter=',', dtype='float64') # Read Raman reflection\n",
    "raman_tr = np.loadtxt(r'Data/TrainingData/RAMANTR.csv', delimiter=',', dtype='float64') # Read Raman transmission\n",
    "nir_re = np.loadtxt(r'Data/TrainingData/NIRRE.csv', delimiter=',', dtype='float64') # Read Nir reflection\n",
    "nir_tr = np.loadtxt(r'Data/TrainingData/NIRTR.csv', delimiter=',', dtype='float64') # Read Nir transmission\n",
    "\n",
    "# Read Validation data\n",
    "DISS_PROFILES = np.loadtxt(r'Data/Validation/Diss-validation.csv', delimiter=',', dtype='float64') # Read dissolution profile\n",
    "COMP = np.loadtxt(r'Data/Validation/Comp-validation.csv', delimiter=',', dtype='float64') # Read compression force\n",
    "COMP_MAX = np.loadtxt(r'Data/Validation/COMPMAX-validation.csv', delimiter=',', dtype='float64') # Read compression force\n",
    "RAMAN_RE = np.loadtxt(r'Data/Validation/RamanRE-validation.csv', delimiter=',', dtype='float64') # Read Raman reflection\n",
    "RAMAN_TR = np.loadtxt(r'Data/Validation/RamanTR-validation.csv', delimiter=',', dtype='float64') # Read Raman transmission\n",
    "NIR_RE = np.loadtxt(r'Data/Validation/NIRRE-validation.csv', delimiter=',', dtype='float64') # Read Nir reflection\n",
    "NIR_TR = np.loadtxt(r'Data/Validation/NIRTR-validation.csv', delimiter=',', dtype='float64') # Read Nir transmission"
   ]
  },
  {
   "cell_type": "code",
   "execution_count": 34,
   "id": "veterinary-crossing",
   "metadata": {},
   "outputs": [
    {
     "name": "stdout",
     "output_type": "stream",
     "text": [
      "(111,)\n",
      "(111,)\n"
     ]
    }
   ],
   "source": [
    "print(comp_max.shape)\n",
    "# comp_max.reshape(-1, 1)\n",
    "# COMP_MAX.reshape(-1, 1)\n",
    "print(comp_max.shape)"
   ]
  },
  {
   "cell_type": "code",
   "execution_count": 35,
   "id": "arctic-female",
   "metadata": {},
   "outputs": [],
   "source": [
    "# # Sizes of all matrices\n",
    "\n",
    "# # Training Data\n",
    "# print('Training Data')\n",
    "# print('Raman Transmission: ', len(raman_tr), 'x', len(raman_tr[0]))\n",
    "# print('Raman Reflection: ', len(raman_re), 'x', len(raman_re[0]))\n",
    "# print('NIR Transmission: ', len(nir_tr), 'x', len(nir_tr[0]))\n",
    "# print('NIR Reflection: ', len(nir_re), 'x', len(nir_re[0]))\n",
    "# print('Compression Force: ', len(comp), 'x', len(comp[0]))\n",
    "# print('Compression Force(MAX): ', len(comp_max), 'x', 1)\n",
    "# print('Dissolution Profiles: ', len(diss_profiles), 'x', len(diss_profiles[0]))\n",
    "# print('')\n",
    "\n",
    "# # Validation Data\n",
    "# print('Validation Data')\n",
    "# print('Raman Transmission: ', len(RAMAN_TR), 'x', len(RAMAN_TR[0]))\n",
    "# print('Raman Reflection: ', len(RAMAN_RE), 'x', len(RAMAN_RE[0]))\n",
    "# print('NIR Transmission: ', len(NIR_TR), 'x', len(NIR_TR[0]))\n",
    "# print('NIR Reflection: ', len(NIR_RE), 'x', len(NIR_RE[0]))\n",
    "# print('Compression Force: ', len(COMP), 'x', len(COMP[0]))\n",
    "# print('Compression Force(MAX): ', len(COMP_MAX), 'x', 1)\n",
    "# print('Dissolution Profiles: ', len(DISS_PROFILES), 'x', len(DISS_PROFILES[0]))\n",
    "# print('')"
   ]
  },
  {
   "cell_type": "code",
   "execution_count": 36,
   "id": "hollywood-buyer",
   "metadata": {},
   "outputs": [],
   "source": [
    "# Scaling all feature matrices\n",
    "stndrd = StandardScaler()\n",
    "\n",
    "# Training data\n",
    "raman_tr_sc = stndrd.fit_transform(raman_tr)\n",
    "raman_re_sc = stndrd.fit_transform(raman_re)\n",
    "nir_tr_sc   = stndrd.fit_transform(nir_tr)\n",
    "nir_re_sc   = stndrd.fit_transform(nir_re)\n",
    "# comp_sc     = stndrd.fit_transform(comp)\n",
    "# comp_max_sc = stndrd.fit_transform(comp_max) \n",
    "\n",
    "# Validation data\n",
    "RAMAN_TR_sc = stndrd.fit_transform(RAMAN_TR)\n",
    "RAMAN_RE_sc = stndrd.fit_transform(RAMAN_RE)\n",
    "NIR_TR_sc   = stndrd.fit_transform(NIR_TR)\n",
    "NIR_RE_sc   = stndrd.fit_transform(NIR_RE)\n",
    "# COMP_sc     = stndrd.fit_transform(COMP)\n",
    "# COMP_MAX_sc = stndrd.fit_transform(COMP_MAX)"
   ]
  },
  {
   "cell_type": "code",
   "execution_count": 37,
   "id": "technical-crest",
   "metadata": {},
   "outputs": [
    {
     "name": "stdout",
     "output_type": "stream",
     "text": [
      "Training Data\n",
      "Raman Tr:  [0.9970897]\n"
     ]
    },
    {
     "data": {
      "image/png": "[encoded data removed]",
      "text/plain": [
       "<Figure size 432x288 with 1 Axes>"
      ]
     },
     "metadata": {
      "needs_background": "light"
     },
     "output_type": "display_data"
    },
    {
     "name": "stdout",
     "output_type": "stream",
     "text": [
      "Raman Re:  [0.98451896]\n"
     ]
    },
    {
     "data": {
      "image/png": "[encoded data removed]",
      "text/plain": [
       "<Figure size 432x288 with 1 Axes>"
      ]
     },
     "metadata": {
      "needs_background": "light"
     },
     "output_type": "display_data"
    },
    {
     "name": "stdout",
     "output_type": "stream",
     "text": [
      "NIR Tr:  [0.70329761 0.06420798 0.02465503]\n"
     ]
    },
    {
     "data": {
      "image/png": "[encoded data removed]",
      "text/plain": [
       "<Figure size 432x288 with 1 Axes>"
      ]
     },
     "metadata": {
      "needs_background": "light"
     },
     "output_type": "display_data"
    },
    {
     "name": "stdout",
     "output_type": "stream",
     "text": [
      "NIR Re:\t [0.85959002 0.08273421 0.0513304 ]\n"
     ]
    },
    {
     "data": {
      "image/png": "[encoded data removed]",
      "text/plain": [
       "<Figure size 432x288 with 1 Axes>"
      ]
     },
     "metadata": {
      "needs_background": "light"
     },
     "output_type": "display_data"
    }
   ],
   "source": [
    "# Principal Component Analysis\n",
    "# Training Data\n",
    "\n",
    "print('Training Data')\n",
    "\n",
    "# Raman\n",
    "pca = PCA(n_components=1)\n",
    "principalComponents = pca.fit_transform(raman_tr_sc)\n",
    "raman_tr_pca = pd.DataFrame(data = principalComponents\n",
    "             ,columns = [' PC1']).to_numpy()\n",
    "print('Raman Tr: ', pca.explained_variance_ratio_)\n",
    "raman_tr_var =  pca.explained_variance_ratio_ * 100\n",
    "plt.bar(['PCA1'], pca.explained_variance_ratio_ * 100)\n",
    "plt.title('Raman Transmission (Train)')\n",
    "plt.ylabel('Explained variance ratio')\n",
    "plt.show()\n",
    "\n",
    "principalComponents = pca.fit_transform(raman_re_sc)\n",
    "raman_re_pca = pd.DataFrame(data = principalComponents\n",
    "             ,columns = ['PC1']).to_numpy()\n",
    "print('Raman Re: ', pca.explained_variance_ratio_)\n",
    "raman_re_var =  pca.explained_variance_ratio_ * 100\n",
    "plt.bar(['PCA1'], pca.explained_variance_ratio_ * 100)\n",
    "plt.title('Raman Reflection (Train)')\n",
    "plt.ylabel('Explained variance ratio')\n",
    "plt.show()\n",
    "\n",
    "# NIR\n",
    "pca = PCA(n_components=3)\n",
    "principalComponents = pca.fit_transform(nir_tr_sc)\n",
    "nir_tr_pca = pd.DataFrame(data = principalComponents\n",
    "             ,columns = [' PC1','PC2', 'PC3']).to_numpy()\n",
    "print('NIR Tr: ', pca.explained_variance_ratio_)\n",
    "nir_tr_var =  pca.explained_variance_ratio_ * 100\n",
    "plt.bar(['PCA1', 'PCA2', 'PCA3'], pca.explained_variance_ratio_ * 100)\n",
    "plt.title('Nir Transmission (Train)')\n",
    "plt.ylabel('Explained variance ratio')\n",
    "plt.show()\n",
    "\n",
    "\n",
    "principalComponents = pca.fit_transform(nir_re_sc)\n",
    "nir_re_pca = pd.DataFrame(data = principalComponents\n",
    "             ,columns = ['PC1','PC2', 'PC3']).to_numpy()\n",
    "print('NIR Re:\\t', pca.explained_variance_ratio_)\n",
    "nir_re_var =  pca.explained_variance_ratio_ * 100\n",
    "plt.bar(['PCA1', 'PCA2', 'PCA3'], pca.explained_variance_ratio_ * 100)\n",
    "plt.title('Nir Reflection (Train)')\n",
    "plt.ylabel('Explained variance ratio')\n",
    "plt.show()\n",
    "\n",
    "# Compression Forces\n",
    "# pca = PCA(4)\n",
    "# principalComponents = pca.fit_transform(comp_sc)\n",
    "# comp_pca =pd.DataFrame(data = principalComponents\n",
    "#             ,columns = ['PC1', 'PC2', 'PC3','PC3',]).to_numpy()\n",
    "# print('Comp Forces: ', pca.explained_variance_ratio_)\n",
    "# comp_var = pca.explained_variance_ratio_*100\n",
    "\n",
    "# plt.bar(['PCA1', 'PCA2', 'PCA3', 'PCA4'], pca.explained_variance_ratio_ * 100)\n",
    "# plt.title('Compression Force (Train)')\n",
    "# plt.ylabel('Explained variance ratio')\n",
    "# plt.show()"
   ]
  },
  {
   "cell_type": "code",
   "execution_count": 38,
   "id": "looking-learning",
   "metadata": {},
   "outputs": [
    {
     "name": "stdout",
     "output_type": "stream",
     "text": [
      "Validation Data\n",
      "Raman Tr:  [0.99714681]\n"
     ]
    },
    {
     "data": {
      "image/png": "[encoded data removed]",
      "text/plain": [
       "<Figure size 432x288 with 1 Axes>"
      ]
     },
     "metadata": {
      "needs_background": "light"
     },
     "output_type": "display_data"
    },
    {
     "name": "stdout",
     "output_type": "stream",
     "text": [
      "Raman Re:  [0.99126864]\n"
     ]
    },
    {
     "data": {
      "image/png": "[encoded data removed]",
      "text/plain": [
       "<Figure size 432x288 with 1 Axes>"
      ]
     },
     "metadata": {
      "needs_background": "light"
     },
     "output_type": "display_data"
    },
    {
     "name": "stdout",
     "output_type": "stream",
     "text": [
      "NIR Tr:  [0.69993912 0.08073642 0.03281069]\n"
     ]
    },
    {
     "data": {
      "image/png": "[encoded data removed]",
      "text/plain": [
       "<Figure size 432x288 with 1 Axes>"
      ]
     },
     "metadata": {
      "needs_background": "light"
     },
     "output_type": "display_data"
    },
    {
     "name": "stdout",
     "output_type": "stream",
     "text": [
      "NIR Re:\t [0.81765639 0.11743939 0.05710731]\n"
     ]
    },
    {
     "data": {
      "image/png": "[encoded data removed]",
      "text/plain": [
       "<Figure size 432x288 with 1 Axes>"
      ]
     },
     "metadata": {
      "needs_background": "light"
     },
     "output_type": "display_data"
    }
   ],
   "source": [
    "# Principal Component Analysis\n",
    "# Validation Data\n",
    "\n",
    "print('Validation Data')\n",
    "\n",
    "# Raman\n",
    "pca = PCA(n_components=1)\n",
    "principalComponents = pca.fit_transform(RAMAN_TR_sc)\n",
    "RAMAN_TR_pca = pd.DataFrame(data = principalComponents\n",
    "             ,columns = [' PC1']).to_numpy()\n",
    "print('Raman Tr: ', pca.explained_variance_ratio_)\n",
    "raman_tr_v_var =  pca.explained_variance_ratio_ * 100\n",
    "plt.bar(['PCA1'], pca.explained_variance_ratio_ * 100)\n",
    "plt.title('Raman Transmission (Validation)')\n",
    "plt.ylabel('Explained variance ratio')\n",
    "plt.show()\n",
    "\n",
    "principalComponents = pca.fit_transform(RAMAN_RE_sc)\n",
    "RAMAN_RE_pca = pd.DataFrame(data = principalComponents\n",
    "             ,columns = ['PC1']).to_numpy()\n",
    "print('Raman Re: ', pca.explained_variance_ratio_)\n",
    "raman_re_v_var =  pca.explained_variance_ratio_ * 100\n",
    "plt.bar(['PCA1'], pca.explained_variance_ratio_ * 100)\n",
    "plt.title('Raman Reflection (Validation)')\n",
    "plt.ylabel('Explained variance ratio')\n",
    "plt.show()\n",
    "\n",
    "\n",
    "# NIR\n",
    "pca = PCA(n_components=3)\n",
    "principalComponents = pca.fit_transform(NIR_TR_sc)\n",
    "NIR_TR_pca = pd.DataFrame(data = principalComponents\n",
    "             ,columns = [' PC1','PC2', 'PC3']).to_numpy()\n",
    "print('NIR Tr: ', pca.explained_variance_ratio_)\n",
    "nir_tr_v_var =  pca.explained_variance_ratio_ * 100\n",
    "plt.bar(['PCA1', 'PCA2', 'PCA3'], pca.explained_variance_ratio_ * 100)\n",
    "plt.title('Nir Transmission (Validation)')\n",
    "plt.ylabel('Explained variance ratio')\n",
    "plt.show()\n",
    "\n",
    "principalComponents = pca.fit_transform(NIR_RE_sc)\n",
    "NIR_RE_pca = pd.DataFrame(data = principalComponents\n",
    "             ,columns = ['PC1','PC2', 'PC3']).to_numpy()\n",
    "print('NIR Re:\\t', pca.explained_variance_ratio_)\n",
    "nir_re_v_var =  pca.explained_variance_ratio_ * 100\n",
    "plt.bar(['PCA1', 'PCA2', 'PCA3'], pca.explained_variance_ratio_ * 100)\n",
    "plt.title('Nir Reflection (Validation)')\n",
    "plt.ylabel('Explained variance ratio')\n",
    "plt.show()\n",
    "\n",
    "# Compression Forces\n",
    "# pca = PCA(4)\n",
    "# principalComponents = pca.fit_transform(COMP_sc)\n",
    "# COMP_pca =pd.DataFrame(data = principalComponents\n",
    "#             ,columns = ['PC1', 'PC2', 'PC3','PC3',]).to_numpy()\n",
    "# print('Comp Forces: ', pca.explained_variance_ratio_)\n",
    "# comp_var_v = pca.explained_variance_ratio_*100\n",
    "# plt.bar(['PCA1', 'PCA2', 'PCA3', 'PCA4'], pca.explained_variance_ratio_ * 100)\n",
    "# plt.title('Compression Force (Validation)')\n",
    "# plt.ylabel('Explained variance ratio')\n",
    "# plt.show()"
   ]
  },
  {
   "cell_type": "code",
   "execution_count": 39,
   "id": "active-lingerie",
   "metadata": {},
   "outputs": [],
   "source": [
    "# # visualizing pc components of compression force values\n",
    "# fig, axes = plt.subplots(2, 2, figsize=(24, 12))\n",
    "\n",
    "# axes[0][0].bar(['Raman Transmission (Train)'], raman_tr_var)\n",
    "# axes[0][1].bar(['Raman Reflection (Train)'], raman_re_var)\n",
    "# axes[1][0].bar(['Raman Transmission (Validation)'], raman_tr_v_var)\n",
    "# axes[1][1].bar(['Raman Reflection (Validation)'], raman_re_v_var)\n",
    "# # axes[2].set_xlabel('Raman Transmission (Train)')\n",
    "# # axes[3].set_xlabel('Raman Reflection (Validation)')\n",
    "\n",
    "\n",
    "# # plt.bar(['1'], pca.explained_variance_ratio_ * 100)\n",
    "# # plt.title('Raman Transmission')\n",
    "# # plt.xlabel('Number of components')\n",
    "# # plt.ylabel('Explained variance')\n",
    "# # plt.show()"
   ]
  },
  {
   "cell_type": "code",
   "execution_count": 40,
   "id": "balanced-equilibrium",
   "metadata": {},
   "outputs": [],
   "source": [
    "# fig, axes = plt.subplots(1, 2, figsize=(24, 8))\n",
    "\n",
    "# # visualizing relationship of raman transition and reflection values\n",
    "# axes[0].scatter(raman_re_pca[:,0], raman_tr_pca[:,0])\n",
    "# axes[0].set_title(\"RAMAN\")\n",
    "# axes[0].set_xlabel('RE')\n",
    "# axes[0].set_ylabel('TR')\n",
    "\n",
    "# # visualizing relationship of nir transition and reflection values\n",
    "# axes[1].scatter(nir_re_pca, nir_tr_pca)\n",
    "# axes[1].set_title(\"NIR\")\n",
    "# axes[1].set_xlabel('RE')\n",
    "# axes[1].set_ylabel('TR')"
   ]
  },
  {
   "cell_type": "code",
   "execution_count": 41,
   "id": "parallel-alaska",
   "metadata": {},
   "outputs": [],
   "source": [
    "# # visualizing pc components of compression force values\n",
    "# fig, axes = plt.subplots(1, 4, figsize=(24, 8))\n",
    "\n",
    "# axes[0].hist(comp_pca[:,0])\n",
    "# axes[1].hist(comp_pca[:,1])\n",
    "# axes[2].hist(comp_pca[:,2])\n",
    "# axes[3].hist(comp_pca[:,3])\n",
    "\n",
    "# axes[0].set_xlabel('PC1')\n",
    "# axes[1].set_xlabel('PC2')\n",
    "# axes[2].set_xlabel('PC3')\n",
    "# axes[3].set_xlabel('PC4')"
   ]
  },
  {
   "cell_type": "code",
   "execution_count": 42,
   "id": "electrical-terminology",
   "metadata": {},
   "outputs": [],
   "source": [
    "# Possible data combinations\n",
    "\n",
    "train_data_1  = np.column_stack(comp_max)                                                           # compression force\n",
    "train_data_2  = raman_tr_pca                                                   # raman transmission\n",
    "train_data_3  = nir_tr_pca                                                       # nir transmission\n",
    "train_data_4  = raman_re_pca                                                   # raman reflection\n",
    "train_data_5  = nir_re_pca                                                       # nir reflection\n",
    "\n",
    "train_data_6  = nir_con                = np.concatenate((nir_tr_pca,nir_re_pca),axis=1)     # nir reflection & nir transmission\n",
    "train_data_7  = raman_con              = np.concatenate((raman_tr_pca,raman_re_pca),axis=1) # raman reflection & raman transmission\n",
    "\n",
    "train_data_8  = nir_raman_tr           = np.concatenate((nir_tr_pca,raman_tr_pca),axis=1)   # nir transmission & raman transmission \n",
    "train_data_9  = nir_tr_raman_re        = np.concatenate((nir_tr_pca,raman_re_pca),axis=1)   # nir transmission & raman reflection \n",
    "train_data_10 = nir_re_raman_tr        = np.concatenate((nir_re_pca,raman_tr_pca),axis=1)   # nir reflection & raman transmission\n",
    "train_data_11 = nir_raman_re           = np.concatenate((nir_re_pca,raman_re_pca),axis=1)   # nir reflection & raman reflection \n",
    "\n",
    "train_data_12 = nir_con_raman_tr       = np.concatenate((nir_con,raman_tr_pca),axis=1)      # nir & raman transmission\n",
    "train_data_13 = nir_con_raman_re       = np.concatenate((nir_con,raman_re_pca),axis=1)      # nir & raman reflection \n",
    "train_data_14 = raman_con_nir_tr       = np.concatenate((raman_con,nir_tr_pca),axis=1)      # raman & nir transmisison \n",
    "train_data_15 = raman_con_nir_re       = np.concatenate((raman_con,nir_re_pca),axis=1)      # raman & nir reflection \n",
    "\n",
    "train_data_16 = raman_nir              = np.concatenate((raman_con,nir_con),axis=1)         # raman & nir\n",
    "\n",
    "train_data_17 = comp_raman             = np.column_stack((raman_con,comp_max))        # compression force & raman (tr, re)\n",
    "train_data_18 = comp_raman_tr          = np.column_stack((raman_tr_pca,comp_max))     # compression force & raman (tr)\n",
    "train_data_19 = comp_raman_re          = np.column_stack((raman_re_pca,comp_max))     # compression force & raman (re)\n",
    "\n",
    "train_data_20 = comp_nir               = np.column_stack((nir_con,comp_max))          # compression force & nir (tr, re)\n",
    "train_data_21 = comp_nir_tr            = np.column_stack((nir_tr_pca,comp_max))       # compression force & nir (tr)\n",
    "train_data_22 = comp_nir_re            = np.column_stack((nir_re_pca,comp_max))       # compression force & nir (re)\n",
    "\n",
    "train_data_23 = comp_transmission      = np.column_stack((comp_max,nir_raman_tr))     # compression force + transmissions (raman, nir)\n",
    "train_data_24 = comp_reflection        = np.column_stack((comp_max,nir_raman_re))    # compression force + reflections (raman, nir)\n",
    "\n",
    "train_data_25 = comp_nir_tr_raman_re   = np.column_stack((comp_max,nir_tr_raman_re))  # compression force & nir (re) & raman (tr)\n",
    "train_data_26 = comp_nir_re_raman_tr   = np.column_stack((comp_max,nir_re_raman_tr))  # compression force & nir (tr) & raman (re)\n",
    "\n",
    "train_data_27 = comp_nir_con_raman_tr  = np.column_stack((nir_con_raman_tr,comp_max)) # nir & raman (tr) & compression force\n",
    "train_data_28 = comp_nir_con_raman_re  = np.column_stack((nir_con_raman_re,comp_max)) # nir & raman (re) & compression force\n",
    "train_data_29 = comp_raman_con_nir_tr  = np.column_stack((raman_con_nir_tr,comp_max)) # raman & nir (tr) & compression force\n",
    "train_data_30 = comp_raman_con_nir_re  = np.column_stack((raman_con_nir_re,comp_max)) # raman & nir (re) & compression force\n",
    "\n",
    "train_data_all = all_features          = np.column_stack((raman_nir,comp_max))        # raman & nir & compression force"
   ]
  },
  {
   "cell_type": "code",
   "execution_count": 43,
   "id": "threatened-indonesia",
   "metadata": {},
   "outputs": [],
   "source": [
    "# print('Training Data')\n",
    "\n",
    "# print('NIR RE: ', len(nir_re_pca[0]))\n",
    "# print('NIR TR: ', len(nir_tr_pca[0]))\n",
    "# print('NIR (RE, TR): ', len(nir_con[0]))\n",
    "\n",
    "# print('RAMAN RE: ', len(raman_tr_pca[0]))\n",
    "# print('RAMAN TR: ', len(raman_re_pca[0]))\n",
    "# print('RAMAN (RE, TR): ', len(raman_con[0]))\n",
    "\n",
    "# print('Transmission (NIR, RAMAN): ', len(nir_raman_tr[0]))\n",
    "# print('Reflection (NIR, RAMAN): ', len(nir_tr_raman_re[0]))\n",
    "# print('NIR (RE) & RAMAN (TR): ', len(nir_re_raman_tr[0]))\n",
    "# print('RAMAN (RE) & NIR (TR): ', len(nir_raman_re[0]))\n",
    "\n",
    "# print('NIR (RE,TR) & RAMAN (TR): ', len(nir_con_raman_tr[0]))\n",
    "# print('NIR (RE,TR) & RAMAN (RE): ', len(nir_con_raman_re[0]))\n",
    "# print('RAMAN (RE,TR) & NIR (TR)): ', len(raman_con_nir_tr[0]))\n",
    "# print('RAMAN (RE,TR) & NIR (RE)): ', len(raman_con_nir_re[0]))\n",
    "\n",
    "# print('RAMAN & NIR: ', len(raman_nir[0]))\n",
    "\n",
    "# print('Comp Force: ', 1)\n",
    "\n",
    "# print('Comp Force & RAMAN (RE, TR): ', len(comp_raman[0]))\n",
    "# print('Comp Force & RAMAN (RE): ', len(comp_raman_re[0]))\n",
    "# print('Comp Force & RAMAN (TR): ', len(comp_raman_tr[0]))\n",
    "\n",
    "# print('Comp Force & NIR (RE, TR): ', len(comp_nir[0]))\n",
    "# print('Comp Force & NIR (RE): ', len(comp_nir_re[0]))\n",
    "# print('Comp Force & NIR (TR): ', len(comp_nir_tr[0]))\n",
    "\n",
    "# print('Comp Force & Transmission (NIR, RAMAN): ', len(comp_transmission[0]))\n",
    "# print('Comp Force & Reflection (NIR, RAMAN): ', len(comp_reflection[0]))\n",
    "# print('Comp Force & RAMAN(TR) & NIR(RE): ', len(comp_nir_re_raman_tr[0]))\n",
    "# print('Comp Force & RAMAN(RE) & NIR(TR)): ', len(comp_nir_tr_raman_re[0]))\n",
    "\n",
    "# print('Comp Force & NIR (RE,TR) & RAMAN (TR): ', len(comp_nir_con_raman_tr[0]))\n",
    "# print('Comp Force & NIR (RE,TR) & RAMAN (RE): ', len(comp_nir_con_raman_re[0]))\n",
    "# print('Comp Force & RAMAN (RE,TR) & NIR (TR)): ', len(comp_raman_con_nir_tr[0]))\n",
    "# print('Comp Force & RAMAN (RE,TR) & NIR (RE)): ', len(comp_raman_con_nir_re[0]))\n",
    "\n",
    "# print('All Features: ', len(all_features[0]))"
   ]
  },
  {
   "cell_type": "code",
   "execution_count": 44,
   "id": "unusual-meaning",
   "metadata": {},
   "outputs": [],
   "source": [
    "# Possible data combinations\n",
    "\n",
    "validate_data_1 = np.column_stack(COMP_MAX)                                                          # compression force\n",
    "validate_data_2 = RAMAN_TR_pca                                                       # raman transmission\n",
    "validate_data_3 = NIR_TR_pca                                                         # nir transmission\n",
    "validate_data_4 = RAMAN_RE_pca                                                       # raman reflection\n",
    "validate_data_5 = NIR_RE_pca                                                         # nir reflection\n",
    " \n",
    "validate_data_6 = nir_con_v                = np.concatenate((NIR_TR_pca,NIR_RE_pca),axis=1)       # nir reflection & nir transmission\n",
    "validate_data_7 = raman_con_v              = np.concatenate((RAMAN_TR_pca,RAMAN_RE_pca),axis=1)   # raman reflection & raman transmission\n",
    "\n",
    "validate_data_8 = nir_raman_tr_v           = np.concatenate((NIR_TR_pca,RAMAN_TR_pca),axis=1)     # nir transmission & raman transmission \n",
    "validate_data_9 = nir_tr_raman_re_v        = np.concatenate((NIR_TR_pca,RAMAN_RE_pca),axis=1)     # nir transmission & raman reflection \n",
    "validate_data_10 = nir_re_raman_tr_v        = np.concatenate((NIR_RE_pca,RAMAN_TR_pca),axis=1)     # nir reflection & raman transmission\n",
    "validate_data_11 = nir_raman_re_v           = np.concatenate((NIR_RE_pca,RAMAN_RE_pca),axis=1)     # nir reflection & raman reflection \n",
    "\n",
    "validate_data_12 = nir_con_raman_tr_v       = np.concatenate((nir_con_v,RAMAN_TR_pca),axis=1)      # nir & raman transmission\n",
    "validate_data_13 = nir_con_raman_re_v       = np.concatenate((nir_con_v,RAMAN_RE_pca),axis=1)      # nir & raman reflection \n",
    "validate_data_14 = raman_con_nir_tr_v       = np.concatenate((raman_con_v,NIR_TR_pca),axis=1)      # raman & nir transmisison \n",
    "validate_data_15 = raman_con_nir_re_v       = np.concatenate((raman_con_v,NIR_RE_pca),axis=1)      # raman & nir reflection \n",
    "\n",
    "validate_data_16 = raman_nir_v              = np.concatenate((raman_con_v,nir_con_v),axis=1)       # raman & nir\n",
    "\n",
    "validate_data_17 = comp_raman_v             = np.column_stack((raman_con_v,COMP_MAX))        # compression force & raman (tr, re)\n",
    "validate_data_18 = comp_raman_tr_v          = np.column_stack((RAMAN_TR_pca,COMP_MAX))       # compression force & raman (tr)\n",
    "validate_data_19 = comp_raman_re_v          = np.column_stack((RAMAN_RE_pca,COMP_MAX))       # compression force & raman (re)\n",
    "\n",
    "validate_data_20 = comp_nir_v               = np.column_stack((nir_con_v,COMP_MAX))          # compression force & nir (tr, re)\n",
    "validate_data_21 = comp_nir_tr_v            = np.column_stack((NIR_TR_pca,COMP_MAX))         # compression force & nir (tr)\n",
    "validate_data_22 = comp_nir_re_v            = np.column_stack((NIR_RE_pca,COMP_MAX))         # compression force & nir (re)\n",
    "\n",
    "validate_data_23 = comp_transmission_v       = np.column_stack((COMP_MAX, RAMAN_TR_pca, NIR_TR_pca))     # compression force + transmissions (raman, nir)\n",
    "validate_data_24 = comp_reflection_v        = np.column_stack((COMP_MAX, RAMAN_RE_pca, NIR_RE_pca))     # compression force + reflections (raman, nir)\n",
    "\n",
    "validate_data_25 = comp_nir_tr_raman_re_v   = np.column_stack((COMP_MAX,nir_tr_raman_re_v))  # compression force & nir (re) & raman (tr)\n",
    "validate_data_26 = comp_nir_re_raman_tr_v   = np.column_stack((COMP_MAX,nir_re_raman_tr_v))  # compression force & nir (tr) & raman (re)\n",
    "\n",
    "validate_data_27 = comp_nir_con_raman_tr_v  = np.column_stack((nir_con_raman_tr_v,COMP_MAX)) # nir & raman (tr) & compression force\n",
    "validate_data_28 = comp_nir_con_raman_re_v  = np.column_stack((nir_con_raman_re_v,COMP_MAX)) # nir & raman (re) & compression force\n",
    "validate_data_29 = comp_raman_con_nir_tr_v  = np.column_stack((raman_con_nir_tr_v,COMP_MAX)) # raman & nir (tr) & compression force\n",
    "validate_data_30 = comp_raman_con_nir_re_v  = np.column_stack((raman_con_nir_re_v,COMP_MAX)) # raman & nir (re) & compression force\n",
    "\n",
    "validate_data_all = all_features_v           = np.column_stack((raman_nir_v,COMP_MAX))        # raman & nir & compression force"
   ]
  },
  {
   "cell_type": "code",
   "execution_count": null,
   "id": "popular-scanner",
   "metadata": {},
   "outputs": [],
   "source": [
    "\n"
   ]
  },
  {
   "cell_type": "code",
   "execution_count": null,
   "id": "fuzzy-detail",
   "metadata": {},
   "outputs": [],
   "source": []
  },
  {
   "cell_type": "code",
   "execution_count": 45,
   "id": "closing-restaurant",
   "metadata": {},
   "outputs": [],
   "source": [
    "# print('Validation Data')\n",
    "\n",
    "# print('NIR RE: ', len(NIR_RE_pca[0]))\n",
    "# print('NIR TR: ', len(NIR_TR_pca[0]))\n",
    "# print('NIR (RE, TR): ', len(nir_con_v[0]))\n",
    "\n",
    "# print('RAMAN RE: ', len(RAMAN_TR_pca[0]))\n",
    "# print('RAMAN TR: ', len(RAMAN_RE_pca[0]))\n",
    "# print('RAMAN (RE, TR): ', len(raman_con_v[0]))\n",
    "\n",
    "# print('Transmission (NIR, RAMAN): ', len(nir_raman_tr_v[0]))\n",
    "# print('Reflection (NIR, RAMAN): ', len(nir_tr_raman_re_v[0]))\n",
    "# print('NIR (RE) & RAMAN (TR): ', len(nir_re_raman_tr_v[0]))\n",
    "# print('RAMAN (RE) & NIR (TR): ', len(nir_raman_re_v[0]))\n",
    "\n",
    "# print('NIR (RE,TR) & RAMAN (TR): ', len(nir_con_raman_tr_v[0]))\n",
    "# print('NIR (RE,TR) & RAMAN (RE): ', len(nir_con_raman_re_v[0]))\n",
    "# print('RAMAN (RE,TR) & NIR (TR)): ', len(raman_con_nir_tr_v[0]))\n",
    "# print('RAMAN (RE,TR) & NIR (RE)): ', len(raman_con_nir_re_v[0]))\n",
    "\n",
    "# print('RAMAN & NIR: ', len(raman_nir_v[0]))\n",
    "\n",
    "# print('Comp Force: ', 1)\n",
    "\n",
    "# print('Comp Force & RAMAN (RE, TR): ', len(comp_raman_v[0]))\n",
    "# print('Comp Force & RAMAN (RE): ', len(comp_raman_re_v[0]))\n",
    "# print('Comp Force & RAMAN (TR): ', len(comp_raman_tr_v[0]))\n",
    "\n",
    "# print('Comp Force & NIR (RE, TR): ', len(comp_nir_v[0]))\n",
    "# print('Comp Force & NIR (RE): ', len(comp_nir_re_v[0]))\n",
    "# print('Comp Force & NIR (TR): ', len(comp_nir_tr_v[0]))\n",
    "\n",
    "# print('Comp Force & Transmission (NIR, RAMAN): ', len(comp_transmission_v[0]))\n",
    "# print('Comp Force & Reflection (NIR, RAMAN): ', len(comp_reflection_v[0]))\n",
    "# print('Comp Force & RAMAN(TR) & NIR(RE): ', len(comp_nir_re_raman_tr_v[0]))\n",
    "# print('Comp Force & RAMAN(RE) & NIR(TR)): ', len(comp_nir_tr_raman_re_v[0]))\n",
    "\n",
    "# print('Comp Force & NIR (RE,TR) & RAMAN (TR): ', len(comp_nir_con_raman_tr_v[0]))\n",
    "# print('Comp Force & NIR (RE,TR) & RAMAN (RE): ', len(comp_nir_con_raman_re_v[0]))\n",
    "# print('Comp Force & RAMAN (RE,TR) & NIR (TR)): ', len(comp_raman_con_nir_tr_v[0]))\n",
    "# print('Comp Force & RAMAN (RE,TR) & NIR (RE)): ', len(comp_raman_con_nir_re_v[0]))\n",
    "\n",
    "# print('All Features: ', len(all_features[0]))"
   ]
  },
  {
   "cell_type": "code",
   "execution_count": 46,
   "id": "systematic-david",
   "metadata": {},
   "outputs": [],
   "source": [
    "# plt.boxplot(comp_pca,vert=True,patch_artist=False);   "
   ]
  },
  {
   "cell_type": "code",
   "execution_count": 47,
   "id": "lonely-implement",
   "metadata": {},
   "outputs": [],
   "source": [
    "# f2 functions is for calculation of model effectiveness after training\n",
    "\n",
    "def calculatef2(P,T,rows,samples):  \n",
    "    rows=rows\n",
    "    samples=samples\n",
    "    count=0\n",
    "\n",
    "    y_pred=P\n",
    "    y_test=T\n",
    "    ftotal=0\n",
    "    for i in range(0, samples):\n",
    "\n",
    "        f=0\n",
    "\n",
    "        somme=0\n",
    "        Xrow = y_test[i]\n",
    "        Yrow = y_pred[i]\n",
    "        for n in range(0,rows):\n",
    "            Xcell=Xrow[n]\n",
    "            Ycell=Yrow[n]\n",
    "            Error=Xcell-Ycell\n",
    "            Eabs=Error**2\n",
    "            somme=somme+Eabs\n",
    "        step1=1+(1/rows)*somme\n",
    "        step2=step1**(-0.5)\n",
    "        step3=step2*100\n",
    "        f=50*math.log10( step3 )\n",
    "        ftotal=ftotal+f\n",
    "    averagef2=ftotal/samples\n",
    "    return(averagef2)\n"
   ]
  },
  {
   "cell_type": "code",
   "execution_count": 107,
   "id": "verbal-greek",
   "metadata": {},
   "outputs": [],
   "source": [
    "x_train = train_data_11\n",
    "x_test = validate_data_11\n",
    "\n",
    "y_train = diss_profiles\n",
    "y_test = DISS_PROFILES\n",
    "\n",
    "# x_train = stndrd.fit_transform(x_train)\n",
    "# x_test = stndrd.transform(x_test)"
   ]
  },
  {
   "cell_type": "code",
   "execution_count": 108,
   "id": "potential-floor",
   "metadata": {},
   "outputs": [],
   "source": [
    "regressor = RandomForestRegressor(n_estimators=1000, random_state=0)\n",
    "regressor.fit(x_train, y_train)\n",
    "y_pred = regressor.predict(x_test)"
   ]
  },
  {
   "cell_type": "code",
   "execution_count": 109,
   "id": "rubber-marketing",
   "metadata": {},
   "outputs": [
    {
     "data": {
      "text/plain": [
       "48.220615514275245"
      ]
     },
     "execution_count": 109,
     "metadata": {},
     "output_type": "execute_result"
    }
   ],
   "source": [
    "calculatef2(y_pred,y_test,53,37)"
   ]
  },
  {
   "cell_type": "markdown",
   "id": "successful-adult",
   "metadata": {},
   "source": [
    "# TreeRegressor = DecisionTreeRegressor(random_state=0)\n",
    "# TreeRegressor.fit(x_train, y_train)\n",
    "# y_pred = TreeRegressor.predict(x_test)"
   ]
  },
  {
   "cell_type": "code",
   "execution_count": 51,
   "id": "preceding-active",
   "metadata": {},
   "outputs": [],
   "source": [
    "\n",
    "# params = {'n_estimators': 500, 'max_depth': 4, 'min_samples_split': 2, 'min_samples_leaf': 2\n",
    "#          }\n",
    "\n",
    "# estimator = MultiOutputRegressor(GradientBoostingRegressor(**params))\n",
    "# estimator.fit(x_train, y_train)\n",
    "# y_pred = estimator.predict(x_test)"
   ]
  },
  {
   "cell_type": "code",
   "execution_count": 52,
   "id": "instant-pipeline",
   "metadata": {},
   "outputs": [],
   "source": [
    "rand_forest = [35, 37, 41, 47, 38, 37, 34, 39, 45, 50, 36, 41, 36, 41, 36, 42,\n",
    "              37, 38, 42, 40, 38, 37, 48, 54, 39, 39, 44, 36, 42, 37]\n",
    "\n",
    "decision_tree = [31, 33, 38, 39, 34, 36, 32, 38, 42, 43, 32, 41, 32, 40, 37, 40 , 42, 46, 35\n",
    "                , 40, 42, 33, 55, 52, 43, 30 , 41, 31, 37, 36]\n",
    "\n",
    "gradient_boosting = [32, 35, 39, 42, 39, 35, 33, 38, 44, 43, 37, 42, 35, 41, 37, 37\n",
    "                    , 34, 41, 39, 31, 46, 34, 51, 59, 44, 37, 42, 35, 41, 39]\n",
    "\n",
    "# converting to numpy arrays\n",
    "random_forest_result = np.array(rand_forest)\n",
    "decision_tree_result = np.array(decision_tree)\n",
    "gradient_boosting_result =  np.array(gradient_boosting)\n"
   ]
  },
  {
   "cell_type": "code",
   "execution_count": 53,
   "id": "referenced-fountain",
   "metadata": {},
   "outputs": [
    {
     "data": {
      "text/plain": [
       "Text(0.5, 1.0, 'Gradient Boosting')"
      ]
     },
     "execution_count": 53,
     "metadata": {},
     "output_type": "execute_result"
    },
    {
     "data": {
      "image/png": "[encoded data removed]",
      "text/plain": [
       "<Figure size 2304x864 with 3 Axes>"
      ]
     },
     "metadata": {
      "needs_background": "light"
     },
     "output_type": "display_data"
    }
   ],
   "source": [
    "indices_x = range(0,30)\n",
    "x = np.arange(len(indices_x))\n",
    "fig, axes = plt.subplots(1, 3, figsize=(32, 12))\n",
    "\n",
    "\n",
    "axes[0].bar(x, random_forest_result)\n",
    "axes[1].bar(x, decision_tree_result)\n",
    "axes[2].bar(x, random_forest_result)\n",
    "\n",
    "axes[0].set_title(\"Random Forest \")\n",
    "axes[1].set_title(\"Decision Tree\")\n",
    "axes[2].set_title(\"Gradient Boosting\")"
   ]
  },
  {
   "cell_type": "code",
   "execution_count": 146,
   "id": "olive-atlas",
   "metadata": {},
   "outputs": [
    {
     "data": {
      "image/png": "[encoded data removed]",
      "text/plain": [
       "<Figure size 432x288 with 1 Axes>"
      ]
     },
     "metadata": {
      "needs_background": "light"
     },
     "output_type": "display_data"
    }
   ],
   "source": [
    "\n",
    "time_intervals = np.array([2,5,10,15,30,45,60,\n",
    "                           90,120,150,180,210,240,\n",
    "                           270,300,330,360,390,420,\n",
    "                           450,480,510,540,570,600,\n",
    "                           630,660,690,720,750,780,\n",
    "                           810,840,870,900,930,960,\n",
    "                           990,1020,1050,1080,1110,1140,\n",
    "                           1170,1200,1230,1260,1290,1320,\n",
    "                           1350,1380,1410,1440])\n",
    "\n",
    "plt.plot(time_intervals, DISS_PROFILES[1], color = 'blue')\n",
    "plt.plot(time_intervals, y_pred[2], color = 'yellow')\n",
    "plt.xlabel('Time intervals')\n",
    "plt.ylabel('Dissolution profile')\n",
    "plt.show()"
   ]
  },
  {
   "cell_type": "code",
   "execution_count": null,
   "id": "accepted-washer",
   "metadata": {},
   "outputs": [],
   "source": []
  },
  {
   "cell_type": "code",
   "execution_count": null,
   "id": "authentic-initial",
   "metadata": {},
   "outputs": [],
   "source": []
  }
 ],
 "metadata": {
  "kernelspec": {
   "display_name": "Python 3",
   "language": "python",
   "name": "python3"
  },
  "language_info": {
   "codemirror_mode": {
    "name": "ipython",
    "version": 3
   },
   "file_extension": ".py",
   "mimetype": "text/x-python",
   "name": "python",
   "nbconvert_exporter": "python",
   "pygments_lexer": "ipython3",
   "version": "3.9.0"
  }
 },
 "nbformat": 4,
 "nbformat_minor": 5
}
